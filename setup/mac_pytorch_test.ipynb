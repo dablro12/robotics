{
 "cells": [
  {
   "cell_type": "code",
   "execution_count": 2,
   "metadata": {},
   "outputs": [],
   "source": [
    "import torch"
   ]
  },
  {
   "cell_type": "code",
   "execution_count": 3,
   "metadata": {},
   "outputs": [
    {
     "name": "stdout",
     "output_type": "stream",
     "text": [
      "MPS 장치 지원 bulid 상태 : True\n",
      "MPS 장치 사용 가능 여부 : True\n"
     ]
    }
   ],
   "source": [
    "print(f\"MPS 장치 지원 bulid 상태 : {torch.backends.mps.is_built()}\")\n",
    "print(f\"MPS 장치 사용 가능 여부 : {torch.backends.mps.is_available()}\")\n",
    "\n",
    "device = torch.device(\"mps\")"
   ]
  },
  {
   "cell_type": "code",
   "execution_count": 4,
   "metadata": {},
   "outputs": [
    {
     "data": {
      "text/plain": [
       "tensor([1., 1., 1., 1., 1.], device='mps:0')"
      ]
     },
     "execution_count": 4,
     "metadata": {},
     "output_type": "execute_result"
    }
   ],
   "source": [
    "# mps 장치에 tensor 저장 \n",
    "x = torch.ones(5, device = device)\n",
    "\n",
    "# gpu 상 연산 진행\n",
    "y = x ** 2\n",
    "y #-> tensor([1., 1., 1., 1., 1.], device='mps:0') "
   ]
  }
 ],
 "metadata": {
  "kernelspec": {
   "display_name": "eiden",
   "language": "python",
   "name": "eiden"
  },
  "language_info": {
   "codemirror_mode": {
    "name": "ipython",
    "version": 3
   },
   "file_extension": ".py",
   "mimetype": "text/x-python",
   "name": "python",
   "nbconvert_exporter": "python",
   "pygments_lexer": "ipython3",
   "version": "3.8.18"
  }
 },
 "nbformat": 4,
 "nbformat_minor": 2
}
